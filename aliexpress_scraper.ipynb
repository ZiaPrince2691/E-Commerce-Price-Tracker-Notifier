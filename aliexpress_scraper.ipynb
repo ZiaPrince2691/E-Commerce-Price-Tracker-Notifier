{
 "cells": [
  {
   "cell_type": "code",
   "execution_count": 42,
   "id": "14dc0fa1",
   "metadata": {},
   "outputs": [],
   "source": [
    "from selenium import webdriver\n",
    "from selenium.webdriver.common.by import By\n",
    "from selenium.webdriver.common.keys import Keys\n",
    "from selenium.webdriver.chrome.options import Options\n",
    "from bs4 import BeautifulSoup\n",
    "import pandas as pd\n",
    "import numpy as np\n",
    "import time"
   ]
  },
  {
   "cell_type": "code",
   "execution_count": null,
   "id": "1e8cec82",
   "metadata": {},
   "outputs": [],
   "source": [
    "def lazy_scroll(driver):\n",
    "    last_height = driver.execute_script('return document.body.scrollHeight')\n",
    "    move_to = 1000\n",
    "\n",
    "    while True:\n",
    "        driver.execute_script(f'scrollTo(0,{move_to})')\n",
    "        time.sleep(2)\n",
    "\n",
    "        new_height = driver.execute_script('return document.body.scrollHeight')\n",
    "\n",
    "        if new_height == last_height:\n",
    "            break\n",
    "\n",
    "        last_height = new_height\n",
    "        move_to += 2000"
   ]
  },
  {
   "cell_type": "code",
   "execution_count": 44,
   "id": "a6f9b1bf",
   "metadata": {},
   "outputs": [
    {
     "name": "stdout",
     "output_type": "stream",
     "text": [
      "Airpods - AliExpress\n"
     ]
    }
   ],
   "source": [
    "url = 'https://www.aliexpress.com/w/wholesale-airpods.html'\n",
    "driver = webdriver.Chrome()\n",
    "\n",
    "driver.get(url)\n",
    "time.sleep(2)\n",
    "print(driver.title)\n",
    "lazy_scroll(driver)\n",
    "html = driver.page_source\n",
    "driver.quit()"
   ]
  },
  {
   "cell_type": "code",
   "execution_count": 45,
   "id": "cd12f83e",
   "metadata": {},
   "outputs": [],
   "source": [
    "titles = []\n",
    "prices = []\n",
    "links  = []"
   ]
  },
  {
   "cell_type": "code",
   "execution_count": 46,
   "id": "2e66806c",
   "metadata": {},
   "outputs": [],
   "source": [
    "soup = BeautifulSoup(html , 'html.parser')\n",
    "products = soup.find_all('div' , class_ = 'kr_k3')\n",
    "\n",
    "for product in products:\n",
    "\n",
    "    product_title = product.find('div', class_ = 'kr_av').get('title')\n",
    "    product_price = product.find('div', class_ = 'kr_kj').text.replace(',' , '')\n",
    "    product_link  = product.find('a', class_ = 'kr_b in_is search-card-item').get('href')\n",
    "\n",
    "    titles.append(product_title)\n",
    "    prices.append(float(product_price[3:]))\n",
    "    links.append(product_link)"
   ]
  },
  {
   "cell_type": "code",
   "execution_count": 47,
   "id": "af6d3c99",
   "metadata": {},
   "outputs": [
    {
     "data": {
      "text/plain": [
       "(60, 3)"
      ]
     },
     "execution_count": 47,
     "metadata": {},
     "output_type": "execute_result"
    }
   ],
   "source": [
    "df = pd.DataFrame({\n",
    "    'Titles' : titles,\n",
    "    'Prices' : prices,\n",
    "    'Links'  : links\n",
    "})\n",
    "\n",
    "df.shape"
   ]
  },
  {
   "cell_type": "code",
   "execution_count": 48,
   "id": "f66b228f",
   "metadata": {},
   "outputs": [
    {
     "data": {
      "text/html": [
       "<div>\n",
       "<style scoped>\n",
       "    .dataframe tbody tr th:only-of-type {\n",
       "        vertical-align: middle;\n",
       "    }\n",
       "\n",
       "    .dataframe tbody tr th {\n",
       "        vertical-align: top;\n",
       "    }\n",
       "\n",
       "    .dataframe thead th {\n",
       "        text-align: right;\n",
       "    }\n",
       "</style>\n",
       "<table border=\"1\" class=\"dataframe\">\n",
       "  <thead>\n",
       "    <tr style=\"text-align: right;\">\n",
       "      <th></th>\n",
       "      <th>Titles</th>\n",
       "      <th>Prices</th>\n",
       "      <th>Links</th>\n",
       "    </tr>\n",
       "  </thead>\n",
       "  <tbody>\n",
       "    <tr>\n",
       "      <th>0</th>\n",
       "      <td>Silicone Protective Case Retro Pager Beeper 3D...</td>\n",
       "      <td>760.17</td>\n",
       "      <td>//www.aliexpress.com/item/1005008799323267.htm...</td>\n",
       "    </tr>\n",
       "    <tr>\n",
       "      <th>1</th>\n",
       "      <td>Korean Style Flower Stereoscopic Ribbon Bowkno...</td>\n",
       "      <td>1643.66</td>\n",
       "      <td>//www.aliexpress.com/item/1005009147058881.htm...</td>\n",
       "    </tr>\n",
       "    <tr>\n",
       "      <th>2</th>\n",
       "      <td>Cover for AirPods Pro 2 Wireless Bluetooth Ear...</td>\n",
       "      <td>657.05</td>\n",
       "      <td>//www.aliexpress.com/item/1005006630268718.htm...</td>\n",
       "    </tr>\n",
       "    <tr>\n",
       "      <th>3</th>\n",
       "      <td>AirPods Pro Case Cover with Cleaner Kit,Soft S...</td>\n",
       "      <td>872.66</td>\n",
       "      <td>https://www.aliexpress.com/ssr/300000512/Bundl...</td>\n",
       "    </tr>\n",
       "    <tr>\n",
       "      <th>4</th>\n",
       "      <td>for airpod 3 2021 case Silicone Soft Skin Prot...</td>\n",
       "      <td>641.64</td>\n",
       "      <td>//www.aliexpress.com/item/1005006438445350.htm...</td>\n",
       "    </tr>\n",
       "  </tbody>\n",
       "</table>\n",
       "</div>"
      ],
      "text/plain": [
       "                                              Titles   Prices  \\\n",
       "0  Silicone Protective Case Retro Pager Beeper 3D...   760.17   \n",
       "1  Korean Style Flower Stereoscopic Ribbon Bowkno...  1643.66   \n",
       "2  Cover for AirPods Pro 2 Wireless Bluetooth Ear...   657.05   \n",
       "3  AirPods Pro Case Cover with Cleaner Kit,Soft S...   872.66   \n",
       "4  for airpod 3 2021 case Silicone Soft Skin Prot...   641.64   \n",
       "\n",
       "                                               Links  \n",
       "0  //www.aliexpress.com/item/1005008799323267.htm...  \n",
       "1  //www.aliexpress.com/item/1005009147058881.htm...  \n",
       "2  //www.aliexpress.com/item/1005006630268718.htm...  \n",
       "3  https://www.aliexpress.com/ssr/300000512/Bundl...  \n",
       "4  //www.aliexpress.com/item/1005006438445350.htm...  "
      ]
     },
     "execution_count": 48,
     "metadata": {},
     "output_type": "execute_result"
    }
   ],
   "source": [
    "df.to_csv('aliexpress_products.csv')\n",
    "df.head()"
   ]
  }
 ],
 "metadata": {
  "kernelspec": {
   "display_name": "Python 3",
   "language": "python",
   "name": "python3"
  },
  "language_info": {
   "codemirror_mode": {
    "name": "ipython",
    "version": 3
   },
   "file_extension": ".py",
   "mimetype": "text/x-python",
   "name": "python",
   "nbconvert_exporter": "python",
   "pygments_lexer": "ipython3",
   "version": "3.13.3"
  }
 },
 "nbformat": 4,
 "nbformat_minor": 5
}
