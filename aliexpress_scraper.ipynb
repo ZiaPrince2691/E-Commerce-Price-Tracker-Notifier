{
 "cells": [
  {
   "cell_type": "code",
   "execution_count": 122,
   "id": "14dc0fa1",
   "metadata": {},
   "outputs": [],
   "source": [
    "from selenium import webdriver\n",
    "from selenium.webdriver.common.by import By\n",
    "from selenium.webdriver.common.keys import Keys\n",
    "from selenium.webdriver.chrome.options import Options\n",
    "from bs4 import BeautifulSoup\n",
    "import pandas as pd\n",
    "import numpy as np\n",
    "import time"
   ]
  },
  {
   "cell_type": "code",
   "execution_count": 123,
   "id": "1e8cec82",
   "metadata": {},
   "outputs": [],
   "source": [
    "def lazy_scroll(driver):\n",
    "    last_height = driver.execute_script('return document.body.scrollHeight')\n",
    "    move_to = 3000\n",
    "\n",
    "    while True:\n",
    "        driver.execute_script(f'scrollTo(0,{move_to})')\n",
    "        time.sleep(1)\n",
    "\n",
    "        new_height = driver.execute_script('return document.body.scrollHeight')\n",
    "\n",
    "        if new_height == last_height:\n",
    "            break\n",
    "\n",
    "        last_height = new_height\n",
    "        move_to += 3000"
   ]
  },
  {
   "cell_type": "code",
   "execution_count": 124,
   "id": "cd12f83e",
   "metadata": {},
   "outputs": [],
   "source": [
    "titles = []\n",
    "prices = []\n",
    "links  = []"
   ]
  },
  {
   "cell_type": "code",
   "execution_count": 125,
   "id": "2e66806c",
   "metadata": {},
   "outputs": [],
   "source": [
    "def aliexpress_page_scraper(html):\n",
    "\n",
    "    soup = BeautifulSoup(html , 'html.parser')\n",
    "    products = soup.find_all('div' , class_ = 'kr_k3')\n",
    "\n",
    "    for product in products:\n",
    "\n",
    "        product_title = product.find('div', class_ = 'kr_av').get('title')\n",
    "        product_price = product.find('div', class_ = 'kr_kj').text.replace(',' , '')\n",
    "        product_link  = product.find('a', class_ = 'kr_b in_is search-card-item').get('href')\n",
    "\n",
    "        titles.append(product_title)\n",
    "        prices.append(float(product_price[3:]))\n",
    "        links.append(product_link)"
   ]
  },
  {
   "cell_type": "code",
   "execution_count": 126,
   "id": "4a64dc61",
   "metadata": {},
   "outputs": [],
   "source": [
    "def close_add(driver):\n",
    "    try:\n",
    "        close_button = driver.find_element(By.CLASS_NAME, 'esm--upload-close--1x0SREz')\n",
    "        close_button.click()\n",
    "    except:\n",
    "        print('No ad.')"
   ]
  },
  {
   "cell_type": "code",
   "execution_count": 127,
   "id": "a6f9b1bf",
   "metadata": {},
   "outputs": [
    {
     "name": "stdout",
     "output_type": "stream",
     "text": [
      "Captcha Interception\n"
     ]
    },
    {
     "ename": "NoSuchElementException",
     "evalue": "Message: no such element: Unable to locate element: {\"method\":\"css selector\",\"selector\":\".comet-pagination-next\"}\n  (Session info: chrome=137.0.7151.56); For documentation on this error, please visit: https://www.selenium.dev/documentation/webdriver/troubleshooting/errors#no-such-element-exception\nStacktrace:\n\tGetHandleVerifier [0x0x7ff604c1fea5+79173]\n\tGetHandleVerifier [0x0x7ff604c1ff00+79264]\n\t(No symbol) [0x0x7ff6049d9e5a]\n\t(No symbol) [0x0x7ff604a30586]\n\t(No symbol) [0x0x7ff604a3083c]\n\t(No symbol) [0x0x7ff604a84247]\n\t(No symbol) [0x0x7ff604a589af]\n\t(No symbol) [0x0x7ff604a8100d]\n\t(No symbol) [0x0x7ff604a58743]\n\t(No symbol) [0x0x7ff604a214c1]\n\t(No symbol) [0x0x7ff604a22253]\n\tGetHandleVerifier [0x0x7ff604eea2dd+3004797]\n\tGetHandleVerifier [0x0x7ff604ee472d+2981325]\n\tGetHandleVerifier [0x0x7ff604f03380+3107360]\n\tGetHandleVerifier [0x0x7ff604c3aa2e+188622]\n\tGetHandleVerifier [0x0x7ff604c422bf+219487]\n\tGetHandleVerifier [0x0x7ff604c28df4+115860]\n\tGetHandleVerifier [0x0x7ff604c28fa9+116297]\n\tGetHandleVerifier [0x0x7ff604c0f558+11256]\n\tBaseThreadInitThunk [0x0x7ff8b6e37374+20]\n\tRtlUserThreadStart [0x0x7ff8b7c5cc91+33]\n",
     "output_type": "error",
     "traceback": [
      "\u001b[31m---------------------------------------------------------------------------\u001b[39m",
      "\u001b[31mNoSuchElementException\u001b[39m                    Traceback (most recent call last)",
      "\u001b[36mCell\u001b[39m\u001b[36m \u001b[39m\u001b[32mIn[127]\u001b[39m\u001b[32m, line 15\u001b[39m\n\u001b[32m     13\u001b[39m lazy_scroll(driver)\n\u001b[32m     14\u001b[39m aliexpress_page_scraper(driver.page_source)\n\u001b[32m---> \u001b[39m\u001b[32m15\u001b[39m next_btn = \u001b[43mdriver\u001b[49m\u001b[43m.\u001b[49m\u001b[43mfind_element\u001b[49m\u001b[43m(\u001b[49m\u001b[43mBy\u001b[49m\u001b[43m.\u001b[49m\u001b[43mCLASS_NAME\u001b[49m\u001b[43m,\u001b[49m\u001b[43m \u001b[49m\u001b[33;43m'\u001b[39;49m\u001b[33;43mcomet-pagination-next\u001b[39;49m\u001b[33;43m'\u001b[39;49m\u001b[43m)\u001b[49m\n\u001b[32m     16\u001b[39m page += \u001b[32m1\u001b[39m\n\u001b[32m     18\u001b[39m \u001b[38;5;28;01mif\u001b[39;00m next_btn.get_attribute(\u001b[33m'\u001b[39m\u001b[33maria-disabled\u001b[39m\u001b[33m'\u001b[39m) == \u001b[33m'\u001b[39m\u001b[33mfalse\u001b[39m\u001b[33m'\u001b[39m:\n",
      "\u001b[36mFile \u001b[39m\u001b[32mc:\\Users\\Unique\\AppData\\Local\\Programs\\Python\\Python313\\Lib\\site-packages\\selenium\\webdriver\\remote\\webdriver.py:914\u001b[39m, in \u001b[36mWebDriver.find_element\u001b[39m\u001b[34m(self, by, value)\u001b[39m\n\u001b[32m    911\u001b[39m         \u001b[38;5;28;01mraise\u001b[39;00m NoSuchElementException(\u001b[33mf\u001b[39m\u001b[33m\"\u001b[39m\u001b[33mCannot locate relative element with: \u001b[39m\u001b[38;5;132;01m{\u001b[39;00mby.root\u001b[38;5;132;01m}\u001b[39;00m\u001b[33m\"\u001b[39m)\n\u001b[32m    912\u001b[39m     \u001b[38;5;28;01mreturn\u001b[39;00m elements[\u001b[32m0\u001b[39m]\n\u001b[32m--> \u001b[39m\u001b[32m914\u001b[39m \u001b[38;5;28;01mreturn\u001b[39;00m \u001b[38;5;28;43mself\u001b[39;49m\u001b[43m.\u001b[49m\u001b[43mexecute\u001b[49m\u001b[43m(\u001b[49m\u001b[43mCommand\u001b[49m\u001b[43m.\u001b[49m\u001b[43mFIND_ELEMENT\u001b[49m\u001b[43m,\u001b[49m\u001b[43m \u001b[49m\u001b[43m{\u001b[49m\u001b[33;43m\"\u001b[39;49m\u001b[33;43musing\u001b[39;49m\u001b[33;43m\"\u001b[39;49m\u001b[43m:\u001b[49m\u001b[43m \u001b[49m\u001b[43mby\u001b[49m\u001b[43m,\u001b[49m\u001b[43m \u001b[49m\u001b[33;43m\"\u001b[39;49m\u001b[33;43mvalue\u001b[39;49m\u001b[33;43m\"\u001b[39;49m\u001b[43m:\u001b[49m\u001b[43m \u001b[49m\u001b[43mvalue\u001b[49m\u001b[43m}\u001b[49m\u001b[43m)\u001b[49m[\u001b[33m\"\u001b[39m\u001b[33mvalue\u001b[39m\u001b[33m\"\u001b[39m]\n",
      "\u001b[36mFile \u001b[39m\u001b[32mc:\\Users\\Unique\\AppData\\Local\\Programs\\Python\\Python313\\Lib\\site-packages\\selenium\\webdriver\\remote\\webdriver.py:447\u001b[39m, in \u001b[36mWebDriver.execute\u001b[39m\u001b[34m(self, driver_command, params)\u001b[39m\n\u001b[32m    445\u001b[39m response = \u001b[38;5;28mself\u001b[39m.command_executor.execute(driver_command, params)\n\u001b[32m    446\u001b[39m \u001b[38;5;28;01mif\u001b[39;00m response:\n\u001b[32m--> \u001b[39m\u001b[32m447\u001b[39m     \u001b[38;5;28;43mself\u001b[39;49m\u001b[43m.\u001b[49m\u001b[43merror_handler\u001b[49m\u001b[43m.\u001b[49m\u001b[43mcheck_response\u001b[49m\u001b[43m(\u001b[49m\u001b[43mresponse\u001b[49m\u001b[43m)\u001b[49m\n\u001b[32m    448\u001b[39m     response[\u001b[33m\"\u001b[39m\u001b[33mvalue\u001b[39m\u001b[33m\"\u001b[39m] = \u001b[38;5;28mself\u001b[39m._unwrap_value(response.get(\u001b[33m\"\u001b[39m\u001b[33mvalue\u001b[39m\u001b[33m\"\u001b[39m, \u001b[38;5;28;01mNone\u001b[39;00m))\n\u001b[32m    449\u001b[39m     \u001b[38;5;28;01mreturn\u001b[39;00m response\n",
      "\u001b[36mFile \u001b[39m\u001b[32mc:\\Users\\Unique\\AppData\\Local\\Programs\\Python\\Python313\\Lib\\site-packages\\selenium\\webdriver\\remote\\errorhandler.py:232\u001b[39m, in \u001b[36mErrorHandler.check_response\u001b[39m\u001b[34m(self, response)\u001b[39m\n\u001b[32m    230\u001b[39m         alert_text = value[\u001b[33m\"\u001b[39m\u001b[33malert\u001b[39m\u001b[33m\"\u001b[39m].get(\u001b[33m\"\u001b[39m\u001b[33mtext\u001b[39m\u001b[33m\"\u001b[39m)\n\u001b[32m    231\u001b[39m     \u001b[38;5;28;01mraise\u001b[39;00m exception_class(message, screen, stacktrace, alert_text)  \u001b[38;5;66;03m# type: ignore[call-arg]  # mypy is not smart enough here\u001b[39;00m\n\u001b[32m--> \u001b[39m\u001b[32m232\u001b[39m \u001b[38;5;28;01mraise\u001b[39;00m exception_class(message, screen, stacktrace)\n",
      "\u001b[31mNoSuchElementException\u001b[39m: Message: no such element: Unable to locate element: {\"method\":\"css selector\",\"selector\":\".comet-pagination-next\"}\n  (Session info: chrome=137.0.7151.56); For documentation on this error, please visit: https://www.selenium.dev/documentation/webdriver/troubleshooting/errors#no-such-element-exception\nStacktrace:\n\tGetHandleVerifier [0x0x7ff604c1fea5+79173]\n\tGetHandleVerifier [0x0x7ff604c1ff00+79264]\n\t(No symbol) [0x0x7ff6049d9e5a]\n\t(No symbol) [0x0x7ff604a30586]\n\t(No symbol) [0x0x7ff604a3083c]\n\t(No symbol) [0x0x7ff604a84247]\n\t(No symbol) [0x0x7ff604a589af]\n\t(No symbol) [0x0x7ff604a8100d]\n\t(No symbol) [0x0x7ff604a58743]\n\t(No symbol) [0x0x7ff604a214c1]\n\t(No symbol) [0x0x7ff604a22253]\n\tGetHandleVerifier [0x0x7ff604eea2dd+3004797]\n\tGetHandleVerifier [0x0x7ff604ee472d+2981325]\n\tGetHandleVerifier [0x0x7ff604f03380+3107360]\n\tGetHandleVerifier [0x0x7ff604c3aa2e+188622]\n\tGetHandleVerifier [0x0x7ff604c422bf+219487]\n\tGetHandleVerifier [0x0x7ff604c28df4+115860]\n\tGetHandleVerifier [0x0x7ff604c28fa9+116297]\n\tGetHandleVerifier [0x0x7ff604c0f558+11256]\n\tBaseThreadInitThunk [0x0x7ff8b6e37374+20]\n\tRtlUserThreadStart [0x0x7ff8b7c5cc91+33]\n"
     ]
    }
   ],
   "source": [
    "url = 'https://www.aliexpress.com/w/wholesale-airpods.html'\n",
    "driver = webdriver.Chrome()\n",
    "\n",
    "driver.get(url)\n",
    "\n",
    "print(driver.title)\n",
    "\n",
    "page = 1\n",
    "\n",
    "while page <= 5:\n",
    "\n",
    "    time.sleep(2)\n",
    "    lazy_scroll(driver)\n",
    "    aliexpress_page_scraper(driver.page_source)\n",
    "    next_btn = driver.find_element(By.CLASS_NAME, 'comet-pagination-next')\n",
    "    page += 1\n",
    "    \n",
    "    if next_btn.get_attribute('aria-disabled') == 'false':\n",
    "        driver.execute_script(\"arguments[0].click();\", next_btn)\n",
    "        print(\"Button Clicked\")\n",
    "    else:\n",
    "        break\n",
    "\n",
    "driver.quit()"
   ]
  },
  {
   "cell_type": "code",
   "execution_count": null,
   "id": "af6d3c99",
   "metadata": {},
   "outputs": [
    {
     "data": {
      "text/plain": [
       "(60, 3)"
      ]
     },
     "execution_count": 75,
     "metadata": {},
     "output_type": "execute_result"
    }
   ],
   "source": [
    "df = pd.DataFrame({\n",
    "    'Titles' : titles,\n",
    "    'Prices' : prices,\n",
    "    'Links'  : links\n",
    "})\n",
    "\n",
    "df.shape"
   ]
  },
  {
   "cell_type": "code",
   "execution_count": null,
   "id": "f66b228f",
   "metadata": {},
   "outputs": [
    {
     "data": {
      "text/plain": [
       "(50, 3)"
      ]
     },
     "execution_count": 78,
     "metadata": {},
     "output_type": "execute_result"
    }
   ],
   "source": [
    "df = df[df['Links'].str.contains('item')]\n",
    "df.reset_index( drop=True , inplace=True)\n",
    "df.index = range(1,len(df)+1)\n",
    "df.shape"
   ]
  },
  {
   "cell_type": "code",
   "execution_count": null,
   "id": "53974373",
   "metadata": {},
   "outputs": [
    {
     "data": {
      "text/html": [
       "<div>\n",
       "<style scoped>\n",
       "    .dataframe tbody tr th:only-of-type {\n",
       "        vertical-align: middle;\n",
       "    }\n",
       "\n",
       "    .dataframe tbody tr th {\n",
       "        vertical-align: top;\n",
       "    }\n",
       "\n",
       "    .dataframe thead th {\n",
       "        text-align: right;\n",
       "    }\n",
       "</style>\n",
       "<table border=\"1\" class=\"dataframe\">\n",
       "  <thead>\n",
       "    <tr style=\"text-align: right;\">\n",
       "      <th></th>\n",
       "      <th>Titles</th>\n",
       "      <th>Prices</th>\n",
       "      <th>Links</th>\n",
       "    </tr>\n",
       "  </thead>\n",
       "  <tbody>\n",
       "    <tr>\n",
       "      <th>1</th>\n",
       "      <td>Silicone Protective Case Retro Pager Beeper 3D...</td>\n",
       "      <td>760.17</td>\n",
       "      <td>//www.aliexpress.com/item/1005008799323267.htm...</td>\n",
       "    </tr>\n",
       "    <tr>\n",
       "      <th>2</th>\n",
       "      <td>Korean Style Flower Stereoscopic Ribbon Bowkno...</td>\n",
       "      <td>1643.66</td>\n",
       "      <td>//www.aliexpress.com/item/1005009147058881.htm...</td>\n",
       "    </tr>\n",
       "    <tr>\n",
       "      <th>3</th>\n",
       "      <td>Cover for AirPods Pro 2 Wireless Bluetooth Ear...</td>\n",
       "      <td>657.05</td>\n",
       "      <td>//www.aliexpress.com/item/1005006630268718.htm...</td>\n",
       "    </tr>\n",
       "    <tr>\n",
       "      <th>4</th>\n",
       "      <td>for airpod 3 2021 case Silicone Soft Skin Prot...</td>\n",
       "      <td>641.64</td>\n",
       "      <td>//www.aliexpress.com/item/1005006438445350.htm...</td>\n",
       "    </tr>\n",
       "    <tr>\n",
       "      <th>5</th>\n",
       "      <td>3-piece Set For Apple AirPods 4 Case With Clea...</td>\n",
       "      <td>740.81</td>\n",
       "      <td>//www.aliexpress.com/item/1005008932731131.htm...</td>\n",
       "    </tr>\n",
       "  </tbody>\n",
       "</table>\n",
       "</div>"
      ],
      "text/plain": [
       "                                              Titles   Prices  \\\n",
       "1  Silicone Protective Case Retro Pager Beeper 3D...   760.17   \n",
       "2  Korean Style Flower Stereoscopic Ribbon Bowkno...  1643.66   \n",
       "3  Cover for AirPods Pro 2 Wireless Bluetooth Ear...   657.05   \n",
       "4  for airpod 3 2021 case Silicone Soft Skin Prot...   641.64   \n",
       "5  3-piece Set For Apple AirPods 4 Case With Clea...   740.81   \n",
       "\n",
       "                                               Links  \n",
       "1  //www.aliexpress.com/item/1005008799323267.htm...  \n",
       "2  //www.aliexpress.com/item/1005009147058881.htm...  \n",
       "3  //www.aliexpress.com/item/1005006630268718.htm...  \n",
       "4  //www.aliexpress.com/item/1005006438445350.htm...  \n",
       "5  //www.aliexpress.com/item/1005008932731131.htm...  "
      ]
     },
     "execution_count": 79,
     "metadata": {},
     "output_type": "execute_result"
    }
   ],
   "source": [
    "df.to_csv('aliexpress_products.csv')\n",
    "df.head()"
   ]
  }
 ],
 "metadata": {
  "kernelspec": {
   "display_name": "Python 3",
   "language": "python",
   "name": "python3"
  },
  "language_info": {
   "codemirror_mode": {
    "name": "ipython",
    "version": 3
   },
   "file_extension": ".py",
   "mimetype": "text/x-python",
   "name": "python",
   "nbconvert_exporter": "python",
   "pygments_lexer": "ipython3",
   "version": "3.13.3"
  }
 },
 "nbformat": 4,
 "nbformat_minor": 5
}
