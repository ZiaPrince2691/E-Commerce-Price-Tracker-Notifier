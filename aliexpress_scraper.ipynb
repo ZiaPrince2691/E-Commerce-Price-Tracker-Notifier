{
 "cells": [
  {
   "cell_type": "code",
   "execution_count": 29,
   "id": "14dc0fa1",
   "metadata": {},
   "outputs": [],
   "source": [
    "from selenium import webdriver\n",
    "from selenium.webdriver.common.by import By\n",
    "from selenium.webdriver.common.keys import Keys\n",
    "from selenium.webdriver.chrome.options import Options\n",
    "from bs4 import BeautifulSoup\n",
    "import pandas as pd\n",
    "import numpy as np\n",
    "import random\n",
    "import requests\n",
    "import time"
   ]
  },
  {
   "cell_type": "code",
   "execution_count": 30,
   "id": "d815a74d",
   "metadata": {},
   "outputs": [],
   "source": [
    "def fetch_proxies():\n",
    "    url = 'https://free-proxy-list.net/'\n",
    "    response = requests.get(url)\n",
    "    soup = BeautifulSoup(response.text, 'html.parser')\n",
    "\n",
    "    proxy_list = []\n",
    "\n",
    "    table_rows = soup.find('table' , class_='table table-striped table-bordered').find('tbody').find_all('tr')\n",
    "    \n",
    "    for row in table_rows:\n",
    "        cols = row.find_all(\"td\")\n",
    "        ip = cols[0].text\n",
    "        port = cols[1].text\n",
    "        https = cols[6].text\n",
    "        if https == \"yes\":\n",
    "            proxy_list.append(f\"{ip}:{port}\")\n",
    "\n",
    "    return proxy_list"
   ]
  },
  {
   "cell_type": "code",
   "execution_count": 31,
   "id": "350a904f",
   "metadata": {},
   "outputs": [],
   "source": [
    "def validate_proxies(proxies, test_url=\"https://httpbin.org/ip\", timeout=5):\n",
    "    working = []\n",
    "    for proxy in proxies:\n",
    "        try:\n",
    "            res = requests.get(test_url, proxies={\n",
    "                \"http\": f\"http://{proxy}\",\n",
    "                \"https\": f\"http://{proxy}\"\n",
    "            }, timeout=timeout)\n",
    "            if res.status_code == 200:\n",
    "                print(f\"[✅] Working: {proxy}\")\n",
    "                working.append(proxy)\n",
    "        except:\n",
    "            print(f\"[❌] Failed: {proxy}\")\n",
    "        time.sleep(1)\n",
    "    return working"
   ]
  },
  {
   "cell_type": "code",
   "execution_count": 32,
   "id": "bdd78853",
   "metadata": {},
   "outputs": [],
   "source": [
    "def scrape_with_rotation(url, proxy_list):\n",
    "    headers = {\n",
    "        \"User-Agent\": \"Mozilla/5.0 (Windows NT 10.0; Win64; x64)\"\n",
    "    }\n",
    "\n",
    "    for attempt in range(10):\n",
    "        proxy = random.choice(proxy_list)\n",
    "        print(f\"Trying with proxy: {proxy}\")\n",
    "        try:\n",
    "            res = requests.get(url, proxies={\n",
    "                \"http\": f\"http://{proxy}\",\n",
    "                \"https\": f\"http://{proxy}\"\n",
    "            }, headers=headers, timeout=10)\n",
    "            if res.status_code == 200:\n",
    "                print(f\"[✅] Success with {proxy}\")\n",
    "                return res.text\n",
    "        except Exception as e:\n",
    "            print(f\"[⚠️] Failed with {proxy}: {e}\")\n",
    "    print(\"❌ All proxies failed.\")\n",
    "    return None"
   ]
  },
  {
   "cell_type": "code",
   "execution_count": 33,
   "id": "1e8cec82",
   "metadata": {},
   "outputs": [],
   "source": [
    "def lazy_scroll(driver):\n",
    "    last_height = driver.execute_script('return document.body.scrollHeight')\n",
    "    move_to = 3000\n",
    "\n",
    "    while True:\n",
    "        driver.execute_script(f'scrollTo(0,{move_to})')\n",
    "        time.sleep(1)\n",
    "\n",
    "        new_height = driver.execute_script('return document.body.scrollHeight')\n",
    "\n",
    "        if new_height == last_height:\n",
    "            break\n",
    "\n",
    "        last_height = new_height\n",
    "        move_to += 3000"
   ]
  },
  {
   "cell_type": "code",
   "execution_count": 34,
   "id": "2e66806c",
   "metadata": {},
   "outputs": [],
   "source": [
    "def aliexpress_page_scraper(html):\n",
    "\n",
    "    soup = BeautifulSoup(html , 'html.parser')\n",
    "    products = soup.find_all('div' , class_ = 'kr_k3')\n",
    "\n",
    "    for product in products:\n",
    "\n",
    "        product_title = product.find('div', class_ = 'kr_av').get('title')\n",
    "        product_price = product.find('div', class_ = 'kr_kj').text.replace(',' , '')\n",
    "        product_link  = product.find('a', class_ = 'kr_b in_is search-card-item').get('href')\n",
    "\n",
    "        titles.append(product_title)\n",
    "        prices.append(float(product_price[3:]))\n",
    "        links.append(product_link)"
   ]
  },
  {
   "cell_type": "code",
   "execution_count": 35,
   "id": "384ef07a",
   "metadata": {},
   "outputs": [],
   "source": [
    "def driver_init():\n",
    "    options = Options()\n",
    "    options.add_argument('--incognito')\n",
    "\n",
    "    driver = webdriver.Chrome(options=options)\n",
    "    return driver"
   ]
  },
  {
   "cell_type": "code",
   "execution_count": 36,
   "id": "cd12f83e",
   "metadata": {},
   "outputs": [],
   "source": [
    "titles = []\n",
    "prices = []\n",
    "links  = []"
   ]
  },
  {
   "cell_type": "code",
   "execution_count": null,
   "id": "a6f9b1bf",
   "metadata": {},
   "outputs": [
    {
     "ename": "WebDriverException",
     "evalue": "Message: target frame detached\n  (failed to check if window was closed: disconnected: Unable to receive message from renderer)\n  (Session info: chrome=137.0.7151.69)\nStacktrace:\n\tGetHandleVerifier [0x0x7ff7d832fea5+79173]\n\tGetHandleVerifier [0x0x7ff7d832ff00+79264]\n\t(No symbol) [0x0x7ff7d80e9c8c]\n\t(No symbol) [0x0x7ff7d80d6f6b]\n\t(No symbol) [0x0x7ff7d80d5e2e]\n\t(No symbol) [0x0x7ff7d80fac44]\n\t(No symbol) [0x0x7ff7d81703c5]\n\t(No symbol) [0x0x7ff7d8190922]\n\t(No symbol) [0x0x7ff7d8168743]\n\t(No symbol) [0x0x7ff7d81314c1]\n\t(No symbol) [0x0x7ff7d8132253]\n\tGetHandleVerifier [0x0x7ff7d85fa2dd+3004797]\n\tGetHandleVerifier [0x0x7ff7d85f472d+2981325]\n\tGetHandleVerifier [0x0x7ff7d8613380+3107360]\n\tGetHandleVerifier [0x0x7ff7d834aa2e+188622]\n\tGetHandleVerifier [0x0x7ff7d83522bf+219487]\n\tGetHandleVerifier [0x0x7ff7d8338df4+115860]\n\tGetHandleVerifier [0x0x7ff7d8338fa9+116297]\n\tGetHandleVerifier [0x0x7ff7d831f558+11256]\n\tBaseThreadInitThunk [0x0x7ff879ac7374+20]\n\tRtlUserThreadStart [0x0x7ff879f5cc91+33]\n",
     "output_type": "error",
     "traceback": [
      "\u001b[31m---------------------------------------------------------------------------\u001b[39m",
      "\u001b[31mWebDriverException\u001b[39m                        Traceback (most recent call last)",
      "\u001b[36mCell\u001b[39m\u001b[36m \u001b[39m\u001b[32mIn[37]\u001b[39m\u001b[32m, line 12\u001b[39m\n\u001b[32m      9\u001b[39m \u001b[38;5;28;01mfor\u001b[39;00m _ \u001b[38;5;129;01min\u001b[39;00m \u001b[38;5;28mrange\u001b[39m(\u001b[32m5\u001b[39m):\n\u001b[32m     11\u001b[39m     time.sleep(\u001b[32m2\u001b[39m)\n\u001b[32m---> \u001b[39m\u001b[32m12\u001b[39m     \u001b[43mlazy_scroll\u001b[49m\u001b[43m(\u001b[49m\u001b[43mdriver\u001b[49m\u001b[43m)\u001b[49m\n\u001b[32m     13\u001b[39m     aliexpress_page_scraper(driver.page_source)\n\u001b[32m     14\u001b[39m     next_btn = driver.find_element(By.CLASS_NAME, \u001b[33m'\u001b[39m\u001b[33mcomet-pagination-next\u001b[39m\u001b[33m'\u001b[39m)\n",
      "\u001b[36mCell\u001b[39m\u001b[36m \u001b[39m\u001b[32mIn[33]\u001b[39m\u001b[32m, line 2\u001b[39m, in \u001b[36mlazy_scroll\u001b[39m\u001b[34m(driver)\u001b[39m\n\u001b[32m      1\u001b[39m \u001b[38;5;28;01mdef\u001b[39;00m\u001b[38;5;250m \u001b[39m\u001b[34mlazy_scroll\u001b[39m(driver):\n\u001b[32m----> \u001b[39m\u001b[32m2\u001b[39m     last_height = \u001b[43mdriver\u001b[49m\u001b[43m.\u001b[49m\u001b[43mexecute_script\u001b[49m\u001b[43m(\u001b[49m\u001b[33;43m'\u001b[39;49m\u001b[33;43mreturn document.body.scrollHeight\u001b[39;49m\u001b[33;43m'\u001b[39;49m\u001b[43m)\u001b[49m\n\u001b[32m      3\u001b[39m     move_to = \u001b[32m3000\u001b[39m\n\u001b[32m      5\u001b[39m     \u001b[38;5;28;01mwhile\u001b[39;00m \u001b[38;5;28;01mTrue\u001b[39;00m:\n",
      "\u001b[36mFile \u001b[39m\u001b[32mc:\\Users\\Unique\\AppData\\Local\\Programs\\Python\\Python313\\Lib\\site-packages\\selenium\\webdriver\\remote\\webdriver.py:544\u001b[39m, in \u001b[36mWebDriver.execute_script\u001b[39m\u001b[34m(self, script, *args)\u001b[39m\n\u001b[32m    541\u001b[39m converted_args = \u001b[38;5;28mlist\u001b[39m(args)\n\u001b[32m    542\u001b[39m command = Command.W3C_EXECUTE_SCRIPT\n\u001b[32m--> \u001b[39m\u001b[32m544\u001b[39m \u001b[38;5;28;01mreturn\u001b[39;00m \u001b[38;5;28;43mself\u001b[39;49m\u001b[43m.\u001b[49m\u001b[43mexecute\u001b[49m\u001b[43m(\u001b[49m\u001b[43mcommand\u001b[49m\u001b[43m,\u001b[49m\u001b[43m \u001b[49m\u001b[43m{\u001b[49m\u001b[33;43m\"\u001b[39;49m\u001b[33;43mscript\u001b[39;49m\u001b[33;43m\"\u001b[39;49m\u001b[43m:\u001b[49m\u001b[43m \u001b[49m\u001b[43mscript\u001b[49m\u001b[43m,\u001b[49m\u001b[43m \u001b[49m\u001b[33;43m\"\u001b[39;49m\u001b[33;43margs\u001b[39;49m\u001b[33;43m\"\u001b[39;49m\u001b[43m:\u001b[49m\u001b[43m \u001b[49m\u001b[43mconverted_args\u001b[49m\u001b[43m}\u001b[49m\u001b[43m)\u001b[49m[\u001b[33m\"\u001b[39m\u001b[33mvalue\u001b[39m\u001b[33m\"\u001b[39m]\n",
      "\u001b[36mFile \u001b[39m\u001b[32mc:\\Users\\Unique\\AppData\\Local\\Programs\\Python\\Python313\\Lib\\site-packages\\selenium\\webdriver\\remote\\webdriver.py:447\u001b[39m, in \u001b[36mWebDriver.execute\u001b[39m\u001b[34m(self, driver_command, params)\u001b[39m\n\u001b[32m    445\u001b[39m response = \u001b[38;5;28mself\u001b[39m.command_executor.execute(driver_command, params)\n\u001b[32m    446\u001b[39m \u001b[38;5;28;01mif\u001b[39;00m response:\n\u001b[32m--> \u001b[39m\u001b[32m447\u001b[39m     \u001b[38;5;28;43mself\u001b[39;49m\u001b[43m.\u001b[49m\u001b[43merror_handler\u001b[49m\u001b[43m.\u001b[49m\u001b[43mcheck_response\u001b[49m\u001b[43m(\u001b[49m\u001b[43mresponse\u001b[49m\u001b[43m)\u001b[49m\n\u001b[32m    448\u001b[39m     response[\u001b[33m\"\u001b[39m\u001b[33mvalue\u001b[39m\u001b[33m\"\u001b[39m] = \u001b[38;5;28mself\u001b[39m._unwrap_value(response.get(\u001b[33m\"\u001b[39m\u001b[33mvalue\u001b[39m\u001b[33m\"\u001b[39m, \u001b[38;5;28;01mNone\u001b[39;00m))\n\u001b[32m    449\u001b[39m     \u001b[38;5;28;01mreturn\u001b[39;00m response\n",
      "\u001b[36mFile \u001b[39m\u001b[32mc:\\Users\\Unique\\AppData\\Local\\Programs\\Python\\Python313\\Lib\\site-packages\\selenium\\webdriver\\remote\\errorhandler.py:232\u001b[39m, in \u001b[36mErrorHandler.check_response\u001b[39m\u001b[34m(self, response)\u001b[39m\n\u001b[32m    230\u001b[39m         alert_text = value[\u001b[33m\"\u001b[39m\u001b[33malert\u001b[39m\u001b[33m\"\u001b[39m].get(\u001b[33m\"\u001b[39m\u001b[33mtext\u001b[39m\u001b[33m\"\u001b[39m)\n\u001b[32m    231\u001b[39m     \u001b[38;5;28;01mraise\u001b[39;00m exception_class(message, screen, stacktrace, alert_text)  \u001b[38;5;66;03m# type: ignore[call-arg]  # mypy is not smart enough here\u001b[39;00m\n\u001b[32m--> \u001b[39m\u001b[32m232\u001b[39m \u001b[38;5;28;01mraise\u001b[39;00m exception_class(message, screen, stacktrace)\n",
      "\u001b[31mWebDriverException\u001b[39m: Message: target frame detached\n  (failed to check if window was closed: disconnected: Unable to receive message from renderer)\n  (Session info: chrome=137.0.7151.69)\nStacktrace:\n\tGetHandleVerifier [0x0x7ff7d832fea5+79173]\n\tGetHandleVerifier [0x0x7ff7d832ff00+79264]\n\t(No symbol) [0x0x7ff7d80e9c8c]\n\t(No symbol) [0x0x7ff7d80d6f6b]\n\t(No symbol) [0x0x7ff7d80d5e2e]\n\t(No symbol) [0x0x7ff7d80fac44]\n\t(No symbol) [0x0x7ff7d81703c5]\n\t(No symbol) [0x0x7ff7d8190922]\n\t(No symbol) [0x0x7ff7d8168743]\n\t(No symbol) [0x0x7ff7d81314c1]\n\t(No symbol) [0x0x7ff7d8132253]\n\tGetHandleVerifier [0x0x7ff7d85fa2dd+3004797]\n\tGetHandleVerifier [0x0x7ff7d85f472d+2981325]\n\tGetHandleVerifier [0x0x7ff7d8613380+3107360]\n\tGetHandleVerifier [0x0x7ff7d834aa2e+188622]\n\tGetHandleVerifier [0x0x7ff7d83522bf+219487]\n\tGetHandleVerifier [0x0x7ff7d8338df4+115860]\n\tGetHandleVerifier [0x0x7ff7d8338fa9+116297]\n\tGetHandleVerifier [0x0x7ff7d831f558+11256]\n\tBaseThreadInitThunk [0x0x7ff879ac7374+20]\n\tRtlUserThreadStart [0x0x7ff879f5cc91+33]\n"
     ]
    }
   ],
   "source": [
    "page = 1\n",
    "\n",
    "while True:\n",
    "\n",
    "    url = f'https://www.aliexpress.com/w/wholesale-airpods.html?page={page}'\n",
    "    driver = driver_init()\n",
    "    driver.get(url)\n",
    "\n",
    "    for _ in range(5):\n",
    "\n",
    "        time.sleep(2)\n",
    "        lazy_scroll(driver)\n",
    "        aliexpress_page_scraper(driver.page_source)\n",
    "        next_btn = driver.find_element(By.CLASS_NAME, 'comet-pagination-next')\n",
    "        if next_btn.get_attribute('aria-disabled') == 'false':\n",
    "            driver.execute_script(\"arguments[0].click();\", next_btn)\n",
    "        else:\n",
    "            break\n",
    "\n",
    "    if next_btn.get_attribute('aria-disabled') == 'false':\n",
    "        page += 5\n",
    "        driver.quit()\n",
    "        continue\n",
    "    else:\n",
    "        break"
   ]
  },
  {
   "cell_type": "code",
   "execution_count": null,
   "id": "af6d3c99",
   "metadata": {},
   "outputs": [
    {
     "data": {
      "text/plain": [
       "(1083, 3)"
      ]
     },
     "execution_count": 16,
     "metadata": {},
     "output_type": "execute_result"
    }
   ],
   "source": [
    "df = pd.DataFrame({\n",
    "    'Titles' : titles,\n",
    "    'Prices' : prices,\n",
    "    'Links'  : links\n",
    "})\n",
    "\n",
    "df.shape"
   ]
  },
  {
   "cell_type": "code",
   "execution_count": null,
   "id": "f66b228f",
   "metadata": {},
   "outputs": [
    {
     "data": {
      "text/plain": [
       "(996, 3)"
      ]
     },
     "execution_count": 17,
     "metadata": {},
     "output_type": "execute_result"
    }
   ],
   "source": [
    "df = df[df['Links'].str.contains('item')]\n",
    "df.reset_index( drop=True , inplace=True)\n",
    "df.index = range(1,len(df)+1)\n",
    "df.shape"
   ]
  },
  {
   "cell_type": "code",
   "execution_count": null,
   "id": "53974373",
   "metadata": {},
   "outputs": [
    {
     "data": {
      "text/html": [
       "<div>\n",
       "<style scoped>\n",
       "    .dataframe tbody tr th:only-of-type {\n",
       "        vertical-align: middle;\n",
       "    }\n",
       "\n",
       "    .dataframe tbody tr th {\n",
       "        vertical-align: top;\n",
       "    }\n",
       "\n",
       "    .dataframe thead th {\n",
       "        text-align: right;\n",
       "    }\n",
       "</style>\n",
       "<table border=\"1\" class=\"dataframe\">\n",
       "  <thead>\n",
       "    <tr style=\"text-align: right;\">\n",
       "      <th></th>\n",
       "      <th>Titles</th>\n",
       "      <th>Prices</th>\n",
       "      <th>Links</th>\n",
       "    </tr>\n",
       "  </thead>\n",
       "  <tbody>\n",
       "    <tr>\n",
       "      <th>1</th>\n",
       "      <td>Super action hero underwear AirPods1/2/3 gener...</td>\n",
       "      <td>1552.15</td>\n",
       "      <td>//www.aliexpress.com/item/1005009147175343.htm...</td>\n",
       "    </tr>\n",
       "    <tr>\n",
       "      <th>2</th>\n",
       "      <td>Korean Shinny Mirror Chrome Acrylic Plastic Ca...</td>\n",
       "      <td>1072.01</td>\n",
       "      <td>//www.aliexpress.com/item/1005009179623144.htm...</td>\n",
       "    </tr>\n",
       "    <tr>\n",
       "      <th>3</th>\n",
       "      <td>for airpod 3 2021 case Silicone Soft Skin Prot...</td>\n",
       "      <td>641.40</td>\n",
       "      <td>//www.aliexpress.com/item/1005006438445350.htm...</td>\n",
       "    </tr>\n",
       "    <tr>\n",
       "      <th>4</th>\n",
       "      <td>Cover for AirPods Pro 2 Wireless Bluetooth Ear...</td>\n",
       "      <td>656.80</td>\n",
       "      <td>//www.aliexpress.com/item/1005006630268718.htm...</td>\n",
       "    </tr>\n",
       "    <tr>\n",
       "      <th>5</th>\n",
       "      <td>Earphones Case For AirPods Pro 1st 2nd generat...</td>\n",
       "      <td>998.66</td>\n",
       "      <td>//www.aliexpress.com/item/1005009088725490.htm...</td>\n",
       "    </tr>\n",
       "  </tbody>\n",
       "</table>\n",
       "</div>"
      ],
      "text/plain": [
       "                                              Titles   Prices  \\\n",
       "1  Super action hero underwear AirPods1/2/3 gener...  1552.15   \n",
       "2  Korean Shinny Mirror Chrome Acrylic Plastic Ca...  1072.01   \n",
       "3  for airpod 3 2021 case Silicone Soft Skin Prot...   641.40   \n",
       "4  Cover for AirPods Pro 2 Wireless Bluetooth Ear...   656.80   \n",
       "5  Earphones Case For AirPods Pro 1st 2nd generat...   998.66   \n",
       "\n",
       "                                               Links  \n",
       "1  //www.aliexpress.com/item/1005009147175343.htm...  \n",
       "2  //www.aliexpress.com/item/1005009179623144.htm...  \n",
       "3  //www.aliexpress.com/item/1005006438445350.htm...  \n",
       "4  //www.aliexpress.com/item/1005006630268718.htm...  \n",
       "5  //www.aliexpress.com/item/1005009088725490.htm...  "
      ]
     },
     "execution_count": 19,
     "metadata": {},
     "output_type": "execute_result"
    }
   ],
   "source": [
    "df.to_csv('aliexpress_products.csv')\n",
    "df.head()"
   ]
  }
 ],
 "metadata": {
  "kernelspec": {
   "display_name": "Python 3",
   "language": "python",
   "name": "python3"
  },
  "language_info": {
   "codemirror_mode": {
    "name": "ipython",
    "version": 3
   },
   "file_extension": ".py",
   "mimetype": "text/x-python",
   "name": "python",
   "nbconvert_exporter": "python",
   "pygments_lexer": "ipython3",
   "version": "3.13.3"
  }
 },
 "nbformat": 4,
 "nbformat_minor": 5
}
