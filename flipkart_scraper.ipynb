{
 "cells": [
  {
   "cell_type": "code",
   "execution_count": 1,
   "id": "19bba59e",
   "metadata": {},
   "outputs": [],
   "source": [
    "from selenium import webdriver\n",
    "from selenium.webdriver.common.by import By\n",
    "from selenium.webdriver.common.keys import Keys\n",
    "from selenium.webdriver.chrome.options import Options\n",
    "from bs4 import BeautifulSoup\n",
    "import pandas as pd\n",
    "import numpy as np\n",
    "import time"
   ]
  },
  {
   "cell_type": "code",
   "execution_count": 2,
   "id": "025a0482",
   "metadata": {},
   "outputs": [],
   "source": [
    "names = []\n",
    "prices = []\n",
    "links = []"
   ]
  },
  {
   "cell_type": "code",
   "execution_count": 3,
   "id": "26e159e3",
   "metadata": {},
   "outputs": [],
   "source": [
    "def scrape_data_from_page(html):\n",
    "    \n",
    "    soup = BeautifulSoup(html, 'html.parser')\n",
    "\n",
    "    products = soup.find_all('div', class_ = 'slAVV4')\n",
    "\n",
    "    for product in products:\n",
    "        try:\n",
    "            product_name = product.find('a', class_ = 'wjcEIp').text\n",
    "        except:\n",
    "            product_name = np.nan\n",
    "\n",
    "        try:    \n",
    "            product_price_raw = product.find('div', class_ = 'Nx9bqj')\n",
    "            product_price = int(product_price_raw.text[1:].replace(',' , ''))\n",
    "        except:\n",
    "            product_price = np.nan\n",
    "\n",
    "        try:\n",
    "            relative_link = product.find('a', class_ = 'wjcEIp').get('href')\n",
    "            product_link = 'flipkart.com' + relative_link\n",
    "        except:\n",
    "            product_link = np.nan\n",
    "\n",
    "        names.append(product_name)\n",
    "        prices.append(product_price)\n",
    "        links.append(product_link)"
   ]
  },
  {
   "cell_type": "code",
   "execution_count": 4,
   "id": "dc13bfbe",
   "metadata": {},
   "outputs": [],
   "source": [
    "product = input('What do you want to buy? : ')\n",
    "budget  = input('    What is your budget? : ')"
   ]
  },
  {
   "cell_type": "code",
   "execution_count": 5,
   "id": "ae5e935e",
   "metadata": {},
   "outputs": [
    {
     "name": "stdout",
     "output_type": "stream",
     "text": [
      "Punching Bag- Buy Products Online at Best Price in India - All Categories | Flipkart.com\n",
      "NEXT\n",
      "NEXT\n",
      "NEXT\n",
      "NEXT\n",
      "NEXT\n",
      "NEXT\n",
      "NEXT\n",
      "NEXT\n",
      "NEXT\n",
      "NEXT\n",
      "NEXT\n",
      "NEXT\n",
      "NEXT\n",
      "NEXT\n",
      "NEXT\n",
      "NEXT\n",
      "NEXT\n",
      "NEXT\n",
      "NEXT\n",
      "NEXT\n",
      "NEXT\n",
      "NEXT\n",
      "NEXT\n",
      "NEXT\n",
      "NEXT\n",
      "NEXT\n",
      "NEXT\n",
      "NEXT\n",
      "NEXT\n"
     ]
    }
   ],
   "source": [
    "url = f\"https://www.flipkart.com/search?q={product}\"\n",
    "\n",
    "driver = webdriver.Chrome()\n",
    "driver.get(url)\n",
    "time.sleep(2)\n",
    "print(driver.title)\n",
    "\n",
    "while True:\n",
    "\n",
    "    scrape_data_from_page(driver.page_source)\n",
    "\n",
    "    next_btn = driver.find_elements(By.CLASS_NAME , '_9QVEpD')[-1]\n",
    "    time.sleep(1)\n",
    "\n",
    "    if next_btn.text == 'NEXT':\n",
    "        print(next_btn.text)\n",
    "        next_btn.click()\n",
    "        time.sleep(4)\n",
    "    else:\n",
    "        break\n",
    "\n",
    "driver.quit()"
   ]
  },
  {
   "cell_type": "code",
   "execution_count": 6,
   "id": "4c90c863",
   "metadata": {},
   "outputs": [],
   "source": [
    "df = pd.DataFrame({\n",
    "    'Names' : names,\n",
    "    'Prices' : prices,\n",
    "    'Links' : links\n",
    "} , index = [i for i in range(1,len(names)+1)])\n",
    "\n",
    "df = df.dropna()\n",
    "# df = df[df['Prices'] != 'Not found']\n",
    "\n",
    "df = df.sort_values(by='Prices')\n",
    "\n",
    "product_name = product.replace(' ' , '_')\n",
    "\n",
    "df.to_csv(f'all_{product_name}s.csv')"
   ]
  },
  {
   "cell_type": "code",
   "execution_count": 9,
   "id": "60721f95",
   "metadata": {},
   "outputs": [],
   "source": [
    "df = df[df['Prices'] <= float(budget)] \n",
    "\n",
    "df.to_csv(f'{product_name}s_under_{budget}.csv')"
   ]
  }
 ],
 "metadata": {
  "kernelspec": {
   "display_name": "Python 3",
   "language": "python",
   "name": "python3"
  },
  "language_info": {
   "codemirror_mode": {
    "name": "ipython",
    "version": 3
   },
   "file_extension": ".py",
   "mimetype": "text/x-python",
   "name": "python",
   "nbconvert_exporter": "python",
   "pygments_lexer": "ipython3",
   "version": "3.13.3"
  }
 },
 "nbformat": 4,
 "nbformat_minor": 5
}
